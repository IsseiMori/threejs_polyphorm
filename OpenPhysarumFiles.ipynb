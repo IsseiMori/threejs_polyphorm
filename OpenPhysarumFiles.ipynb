{
 "cells": [
  {
   "cell_type": "code",
   "execution_count": 1,
   "metadata": {},
   "outputs": [],
   "source": [
    "import numpy as np\n",
    "import matplotlib.pyplot as plt\n",
    "from ipywidgets import interact\n",
    "import nrrd"
   ]
  },
  {
   "cell_type": "code",
   "execution_count": 47,
   "metadata": {},
   "outputs": [],
   "source": [
    "# Source and the X/Y/Z resolution of the data\n",
    "DATA_FILE = 'trace.bin'\n",
    "BRICK_SIZE = [296,544,312]\n",
    "N_CHANNELS = 1\n",
    "\n",
    "# Load raw dataset from HDD\n",
    "raw_data = np.fromfile(DATA_FILE, dtype=np.float16)"
   ]
  },
  {
   "cell_type": "code",
   "execution_count": 6,
   "metadata": {},
   "outputs": [
    {
     "name": "stdout",
     "output_type": "stream",
     "text": [
      "(50239488,)\n",
      "(312, 544, 296, 1)\n"
     ]
    }
   ],
   "source": [
    "# Source and the X/Y/Z resolution of the data\n",
    "DATA_FILE = 'trace.bin'\n",
    "BRICK_SIZE = [296,544,312]\n",
    "N_CHANNELS = 1\n",
    "\n",
    "# Load raw dataset from HDD\n",
    "raw_data = np.fromfile(DATA_FILE, dtype=np.float16)\n",
    "\n",
    "print(raw_data.shape)\n",
    "\n",
    "# Reshape and convert data to suitable formats\n",
    "voxels_f16 = raw_data.reshape((BRICK_SIZE[2], BRICK_SIZE[1], BRICK_SIZE[0], N_CHANNELS)) # Mind the order of dimensions\n",
    "voxels_u8 = voxels_f16.astype(np.uint8)\n",
    "\n",
    "print(voxels_u8.shape)\n",
    "\n",
    "# Visualize a single slice of the voxel data\n",
    "GAMMA = 0.2\n",
    "FIGSIZE = 10.0\n",
    "def plot_voxels_slice(slice, channel):\n",
    "    plt.figure(figsize = (FIGSIZE, FIGSIZE))\n",
    "    plt.imshow(voxels_u8[:,:,slice,channel] ** GAMMA)\n",
    "#interact(plot_voxels_slice, slice=(0, BRICK_SIZE[0]-1, 1), channel=(0, N_CHANNELS-1, 1));"
   ]
  },
  {
   "cell_type": "code",
   "execution_count": 9,
   "metadata": {},
   "outputs": [],
   "source": [
    "\n",
    "\n",
    "filename = 'trace2.nrrd'\n",
    "\n",
    "# Write to a NRRD file\n",
    "nrrd.write(filename, voxels_u8)"
   ]
  },
  {
   "cell_type": "code",
   "execution_count": 59,
   "metadata": {},
   "outputs": [
    {
     "name": "stdout",
     "output_type": "stream",
     "text": [
      "(128, 128, 256)\n",
      "OrderedDict([('type', 'float'), ('dimension', 3), ('sizes', array([128, 128, 256])), ('encoding', 'gzip'), ('endian', 'little'), ('space directions', array([[1., 0., 0.],\n",
      "       [0., 1., 0.],\n",
      "       [0., 0., 1.]])), ('space origin', array([0., 0., 0.]))])\n",
      "0.017699106\n"
     ]
    }
   ],
   "source": [
    "# Read the data back from file\n",
    "readdata, header = nrrd.read('stent.nrrd')\n",
    "print(readdata.shape)\n",
    "print(header)\n",
    "print(np.mean(readdata))\n",
    "nrrd.write('stent2.nrrd', readdata)"
   ]
  },
  {
   "cell_type": "code",
   "execution_count": 52,
   "metadata": {},
   "outputs": [
    {
     "name": "stdout",
     "output_type": "stream",
     "text": [
      "(312, 544, 296)\n",
      "OrderedDict([('type', 'int32'), ('dimension', 3), ('sizes', array([312, 544, 296])), ('endian', 'little'), ('encoding', 'gzip')])\n",
      "[0 0 0 0 0 0 0 0 0 0 0 0 0 0 0 0 0 0 0 0 0 0 0 0 0 0 0 0 0 0 0 0 0 0 0 0 0\n",
      " 0 0 0 0 0 0 0 0 0 0 0 0 0 0 0 0 0 0 0 0 0 0 0 0 0 0 0 0 0 0 0 0 0 0 0 0 0\n",
      " 0 0 0 0 0 0 0 0 0 0 0 0 0 0 0 0 0 0 0 0 0 0 0 0 0 0 0 0 0 0 0 0 0 0 0 0 0\n",
      " 0 0 0 0 0 0 0 0 0 0 0 0 0 0 0 1 1 1 1 2 2 2 2 2 2 2 2 2 2 2 1 1 1 1 1 1 1\n",
      " 1 1 1 0 0 0 0 0 0 0 0 0 0 0 0 0 0 0 0 0 0 0 0 0 0 0 0 0 0 0 0 0 0 0 0 0 0\n",
      " 0 0 0 0 0 0 0 0 0 0 0 0 0 0 0 0 0 0 0 0 0 0 0 0 0 0 0 0 0 0 0 0 0 0 0 0 0\n",
      " 0 0 0 0 0 0 0 0 0 0 0 0 0 0 0 0 0 0 0 0 0 0 0 0 0 0 0 0 0 0 0 0 0 0 0 0 0\n",
      " 0 0 0 0 0 0 0 0 0 0 0 0 0 0 0 0 0 0 0 0 0 0 0 0 0 0 0 0 0 0 0 0 0 0 0 0 0]\n",
      "0.7162699787067893\n"
     ]
    }
   ],
   "source": [
    "# Read the data back from file\n",
    "readdata, header = nrrd.read('trace8.nrrd')\n",
    "print(readdata.shape)\n",
    "print(header)\n",
    "print(readdata[150][100])\n",
    "print(np.mean(readdata))"
   ]
  },
  {
   "cell_type": "code",
   "execution_count": 21,
   "metadata": {},
   "outputs": [],
   "source": [
    "raw_data_norm = raw_data / max(raw_data)"
   ]
  },
  {
   "cell_type": "code",
   "execution_count": 22,
   "metadata": {},
   "outputs": [
    {
     "name": "stdout",
     "output_type": "stream",
     "text": [
      "1.0\n"
     ]
    }
   ],
   "source": [
    "print(max(raw_data_norm))"
   ]
  },
  {
   "cell_type": "code",
   "execution_count": 54,
   "metadata": {},
   "outputs": [],
   "source": [
    "# Reshape and convert data to suitable formats\n",
    "voxels_f16 = raw_data.reshape((BRICK_SIZE[2], BRICK_SIZE[1], BRICK_SIZE[0])) # Mind the order of dimensions\n",
    "voxels_u8 = voxels_f16.astype(np.int_)\n",
    "#print(np.amax(voxels_u8))\n",
    "nrrd.write('trace8.nrrd', voxels_u8)"
   ]
  },
  {
   "cell_type": "code",
   "execution_count": 51,
   "metadata": {},
   "outputs": [
    {
     "data": {
      "text/plain": [
       "(312, 544, 296)"
      ]
     },
     "execution_count": 51,
     "metadata": {},
     "output_type": "execute_result"
    }
   ],
   "source": [
    "voxels_u8.shape "
   ]
  },
  {
   "cell_type": "code",
   "execution_count": 56,
   "metadata": {
    "scrolled": true
   },
   "outputs": [
    {
     "ename": "TemplateTypeError",
     "evalue": "itk.Image is not wrapped for input type `itk.SI, int`.\n\nTo limit the size of the package, only a limited number of\ntypes are available in ITK Python. To print the supported\ntypes, run the following command in your python environment:\n\n    itk.Image.GetTypes()\n\nPossible solutions:\n* If you are an application user:\n** Convert your input image into a supported format (see below).\n** Contact developer to report the issue.\n* If you are an application developer, force input images to be\nloaded in a supported pixel type.\n\n    e.g.: instance = itk.Image[itk.RGBPixel[itk.UC], int].New(my_input)\n\n* (Advanced) If you are an application developer, build ITK Python yourself and\nturned to `ON` the corresponding CMake option to wrap the pixel type or image\ndimension you need. When configuring ITK with CMake, you can set\n`ITK_WRAP_${type}` (replace ${type} with appropriate pixel type such as\n`double`). If you need to support images with 4 or 5 dimensions, you can add\nthese dimensions to the list of dimensions in the CMake variable\n`ITK_WRAP_IMAGE_DIMS`.\n\nSupported input types:\n\nitk.RGBPixel[itk.UC]\nitk.RGBAPixel[itk.UC]\nitk.Vector[itk.F,2]\nitk.Vector[itk.F,3]\nitk.Vector[itk.F,4]\nitk.CovariantVector[itk.F,2]\nitk.CovariantVector[itk.F,3]\nitk.CovariantVector[itk.F,4]\nitk.SS\nitk.UC\nitk.US\nitk.F\nitk.D\nitk.complex[itk.F]\nitk.Vector[itk.D,2]\nitk.Vector[itk.D,3]\nitk.Vector[itk.D,4]\nitk.UL\nitk.ULL\nitk.B\nitk.FixedArray[itk.F,2]\nitk.FixedArray[itk.D,2]\nitk.Offset[2]\nitk.SymmetricSecondRankTensor[itk.D,2]\nitk.RGBPixel[itk.UC]\nitk.RGBAPixel[itk.UC]\nitk.Vector[itk.F,2]\nitk.Vector[itk.F,3]\nitk.Vector[itk.F,4]\nitk.CovariantVector[itk.F,2]\nitk.CovariantVector[itk.F,3]\nitk.CovariantVector[itk.F,4]\nitk.SS\nitk.UC\nitk.US\nitk.F\nitk.D\nitk.complex[itk.F]\nitk.Vector[itk.D,2]\nitk.Vector[itk.D,3]\nitk.Vector[itk.D,4]\nitk.UL\nitk.ULL\nitk.B\nitk.FixedArray[itk.F,3]\nitk.FixedArray[itk.D,3]\nitk.Offset[3]\nitk.SymmetricSecondRankTensor[itk.D,3]\nitk.Vector[itk.F,1]\nitk.Vector[itk.D,2]\nitk.Vector[itk.D,3]\nitk.Vector[itk.D,4]\nitk.Vector[itk.F,1]\nitk.CovariantVector[itk.D,2]\nitk.CovariantVector[itk.D,3]\nitk.CovariantVector[itk.D,4]\nitk.CovariantVector[itk.D,2]\nitk.CovariantVector[itk.D,3]\nitk.CovariantVector[itk.D,4]\nitk.NormalBandNode[itk.Image[itk.F,2]]\nitk.NormalBandNode[itk.Image[itk.D,2]]\nitk.NormalBandNode[itk.Image[itk.F,3]]\nitk.NormalBandNode[itk.Image[itk.D,3]]\n",
     "output_type": "error",
     "traceback": [
      "\u001b[1;31m---------------------------------------------------------------------------\u001b[0m",
      "\u001b[1;31mKeyError\u001b[0m                                  Traceback (most recent call last)",
      "\u001b[1;32m~\\.conda\\envs\\python380\\lib\\site-packages\\itkTemplate.py\u001b[0m in \u001b[0;36m__getitem__\u001b[1;34m(self, parameters)\u001b[0m\n\u001b[0;32m    335\u001b[0m         \u001b[1;32mtry\u001b[0m\u001b[1;33m:\u001b[0m\u001b[1;33m\u001b[0m\u001b[1;33m\u001b[0m\u001b[0m\n\u001b[1;32m--> 336\u001b[1;33m             \u001b[1;32mreturn\u001b[0m\u001b[1;33m(\u001b[0m\u001b[0mself\u001b[0m\u001b[1;33m.\u001b[0m\u001b[0m__template__\u001b[0m\u001b[1;33m[\u001b[0m\u001b[0mtuple\u001b[0m\u001b[1;33m(\u001b[0m\u001b[0mcleanParameters\u001b[0m\u001b[1;33m)\u001b[0m\u001b[1;33m]\u001b[0m\u001b[1;33m)\u001b[0m\u001b[1;33m\u001b[0m\u001b[1;33m\u001b[0m\u001b[0m\n\u001b[0m\u001b[0;32m    337\u001b[0m         \u001b[1;32mexcept\u001b[0m\u001b[1;33m:\u001b[0m\u001b[1;33m\u001b[0m\u001b[1;33m\u001b[0m\u001b[0m\n",
      "\u001b[1;31mKeyError\u001b[0m: (<itkCType signed int>, 3)",
      "\nDuring handling of the above exception, another exception occurred:\n",
      "\u001b[1;31mKeyError\u001b[0m                                  Traceback (most recent call last)",
      "\u001b[1;32m~\\.conda\\envs\\python380\\lib\\site-packages\\itkTemplate.py\u001b[0m in \u001b[0;36m__getitem__\u001b[1;34m(self, parameters)\u001b[0m\n\u001b[0;32m    339\u001b[0m             \u001b[1;32mtry\u001b[0m\u001b[1;33m:\u001b[0m\u001b[1;33m\u001b[0m\u001b[1;33m\u001b[0m\u001b[0m\n\u001b[1;32m--> 340\u001b[1;33m                 \u001b[1;32mreturn\u001b[0m\u001b[1;33m(\u001b[0m\u001b[0mself\u001b[0m\u001b[1;33m.\u001b[0m\u001b[0m__template__\u001b[0m\u001b[1;33m[\u001b[0m\u001b[0mtuple\u001b[0m\u001b[1;33m(\u001b[0m\u001b[0mcleanParameters\u001b[0m\u001b[1;33m)\u001b[0m\u001b[1;33m]\u001b[0m\u001b[1;33m)\u001b[0m\u001b[1;33m\u001b[0m\u001b[1;33m\u001b[0m\u001b[0m\n\u001b[0m\u001b[0;32m    341\u001b[0m             \u001b[1;32mexcept\u001b[0m\u001b[1;33m:\u001b[0m\u001b[1;33m\u001b[0m\u001b[1;33m\u001b[0m\u001b[0m\n",
      "\u001b[1;31mKeyError\u001b[0m: (<itkCType signed int>, 3)",
      "\nDuring handling of the above exception, another exception occurred:\n",
      "\u001b[1;31mTemplateTypeError\u001b[0m                         Traceback (most recent call last)",
      "\u001b[1;32m<ipython-input-56-8022af365db7>\u001b[0m in \u001b[0;36m<module>\u001b[1;34m\u001b[0m\n\u001b[0;32m      1\u001b[0m \u001b[1;32mimport\u001b[0m \u001b[0mitk\u001b[0m\u001b[1;33m\u001b[0m\u001b[1;33m\u001b[0m\u001b[0m\n\u001b[0;32m      2\u001b[0m \u001b[1;33m\u001b[0m\u001b[0m\n\u001b[1;32m----> 3\u001b[1;33m \u001b[0mimage\u001b[0m \u001b[1;33m=\u001b[0m \u001b[0mitk\u001b[0m\u001b[1;33m.\u001b[0m\u001b[0mGetImageFromArray\u001b[0m\u001b[1;33m(\u001b[0m\u001b[0mvoxels_u8\u001b[0m\u001b[1;33m)\u001b[0m\u001b[1;33m\u001b[0m\u001b[1;33m\u001b[0m\u001b[0m\n\u001b[0m\u001b[0;32m      4\u001b[0m \u001b[0mitk\u001b[0m\u001b[1;33m.\u001b[0m\u001b[0mimwrite\u001b[0m\u001b[1;33m(\u001b[0m\u001b[0mimage\u001b[0m\u001b[1;33m,\u001b[0m \u001b[1;34m'image.nrrd'\u001b[0m\u001b[1;33m)\u001b[0m\u001b[1;33m\u001b[0m\u001b[1;33m\u001b[0m\u001b[0m\n",
      "\u001b[1;32m~\\.conda\\envs\\python380\\lib\\site-packages\\itkExtras.py\u001b[0m in \u001b[0;36mGetImageFromArray\u001b[1;34m(arr, is_vector)\u001b[0m\n\u001b[0;32m    290\u001b[0m     \"\"\"Get an ITK image from a Python array.\n\u001b[0;32m    291\u001b[0m     \"\"\"\n\u001b[1;32m--> 292\u001b[1;33m     \u001b[1;32mreturn\u001b[0m \u001b[0m_GetImageFromArray\u001b[0m\u001b[1;33m(\u001b[0m\u001b[0marr\u001b[0m\u001b[1;33m,\u001b[0m \u001b[1;34m\"GetImageFromArray\"\u001b[0m\u001b[1;33m,\u001b[0m \u001b[0mis_vector\u001b[0m\u001b[1;33m)\u001b[0m\u001b[1;33m\u001b[0m\u001b[1;33m\u001b[0m\u001b[0m\n\u001b[0m\u001b[0;32m    293\u001b[0m \u001b[1;33m\u001b[0m\u001b[0m\n\u001b[0;32m    294\u001b[0m \u001b[0mimage_from_array\u001b[0m \u001b[1;33m=\u001b[0m \u001b[0mGetImageFromArray\u001b[0m\u001b[1;33m\u001b[0m\u001b[1;33m\u001b[0m\u001b[0m\n",
      "\u001b[1;32m~\\.conda\\envs\\python380\\lib\\site-packages\\itkExtras.py\u001b[0m in \u001b[0;36m_GetImageFromArray\u001b[1;34m(arr, function, is_vector)\u001b[0m\n\u001b[0;32m    270\u001b[0m     \u001b[0mPixelType\u001b[0m \u001b[1;33m=\u001b[0m \u001b[0m_get_itk_pixelid\u001b[0m\u001b[1;33m(\u001b[0m\u001b[0marr\u001b[0m\u001b[1;33m)\u001b[0m\u001b[1;33m\u001b[0m\u001b[1;33m\u001b[0m\u001b[0m\n\u001b[0;32m    271\u001b[0m     \u001b[0mDimension\u001b[0m \u001b[1;33m=\u001b[0m \u001b[0marr\u001b[0m\u001b[1;33m.\u001b[0m\u001b[0mndim\u001b[0m\u001b[1;33m\u001b[0m\u001b[1;33m\u001b[0m\u001b[0m\n\u001b[1;32m--> 272\u001b[1;33m     \u001b[0mImageType\u001b[0m \u001b[1;33m=\u001b[0m \u001b[0mitk\u001b[0m\u001b[1;33m.\u001b[0m\u001b[0mImage\u001b[0m\u001b[1;33m[\u001b[0m\u001b[0mPixelType\u001b[0m\u001b[1;33m,\u001b[0m \u001b[0mDimension\u001b[0m\u001b[1;33m]\u001b[0m\u001b[1;33m\u001b[0m\u001b[1;33m\u001b[0m\u001b[0m\n\u001b[0m\u001b[0;32m    273\u001b[0m     \u001b[1;32mif\u001b[0m \u001b[0mis_vector\u001b[0m\u001b[1;33m:\u001b[0m\u001b[1;33m\u001b[0m\u001b[1;33m\u001b[0m\u001b[0m\n\u001b[0;32m    274\u001b[0m         \u001b[0mDimension\u001b[0m \u001b[1;33m=\u001b[0m \u001b[0marr\u001b[0m\u001b[1;33m.\u001b[0m\u001b[0mndim\u001b[0m \u001b[1;33m-\u001b[0m \u001b[1;36m1\u001b[0m\u001b[1;33m\u001b[0m\u001b[1;33m\u001b[0m\u001b[0m\n",
      "\u001b[1;32m~\\.conda\\envs\\python380\\lib\\site-packages\\itkTemplate.py\u001b[0m in \u001b[0;36m__getitem__\u001b[1;34m(self, parameters)\u001b[0m\n\u001b[0;32m    340\u001b[0m                 \u001b[1;32mreturn\u001b[0m\u001b[1;33m(\u001b[0m\u001b[0mself\u001b[0m\u001b[1;33m.\u001b[0m\u001b[0m__template__\u001b[0m\u001b[1;33m[\u001b[0m\u001b[0mtuple\u001b[0m\u001b[1;33m(\u001b[0m\u001b[0mcleanParameters\u001b[0m\u001b[1;33m)\u001b[0m\u001b[1;33m]\u001b[0m\u001b[1;33m)\u001b[0m\u001b[1;33m\u001b[0m\u001b[1;33m\u001b[0m\u001b[0m\n\u001b[0;32m    341\u001b[0m             \u001b[1;32mexcept\u001b[0m\u001b[1;33m:\u001b[0m\u001b[1;33m\u001b[0m\u001b[1;33m\u001b[0m\u001b[0m\n\u001b[1;32m--> 342\u001b[1;33m                 \u001b[1;32mraise\u001b[0m \u001b[0mTemplateTypeError\u001b[0m\u001b[1;33m(\u001b[0m\u001b[0mself\u001b[0m\u001b[1;33m,\u001b[0m \u001b[0mtuple\u001b[0m\u001b[1;33m(\u001b[0m\u001b[0mcleanParameters\u001b[0m\u001b[1;33m)\u001b[0m\u001b[1;33m)\u001b[0m\u001b[1;33m\u001b[0m\u001b[1;33m\u001b[0m\u001b[0m\n\u001b[0m\u001b[0;32m    343\u001b[0m \u001b[1;33m\u001b[0m\u001b[0m\n\u001b[0;32m    344\u001b[0m     \u001b[1;32mdef\u001b[0m \u001b[0m__repr__\u001b[0m\u001b[1;33m(\u001b[0m\u001b[0mself\u001b[0m\u001b[1;33m)\u001b[0m\u001b[1;33m:\u001b[0m\u001b[1;33m\u001b[0m\u001b[1;33m\u001b[0m\u001b[0m\n",
      "\u001b[1;31mTemplateTypeError\u001b[0m: itk.Image is not wrapped for input type `itk.SI, int`.\n\nTo limit the size of the package, only a limited number of\ntypes are available in ITK Python. To print the supported\ntypes, run the following command in your python environment:\n\n    itk.Image.GetTypes()\n\nPossible solutions:\n* If you are an application user:\n** Convert your input image into a supported format (see below).\n** Contact developer to report the issue.\n* If you are an application developer, force input images to be\nloaded in a supported pixel type.\n\n    e.g.: instance = itk.Image[itk.RGBPixel[itk.UC], int].New(my_input)\n\n* (Advanced) If you are an application developer, build ITK Python yourself and\nturned to `ON` the corresponding CMake option to wrap the pixel type or image\ndimension you need. When configuring ITK with CMake, you can set\n`ITK_WRAP_${type}` (replace ${type} with appropriate pixel type such as\n`double`). If you need to support images with 4 or 5 dimensions, you can add\nthese dimensions to the list of dimensions in the CMake variable\n`ITK_WRAP_IMAGE_DIMS`.\n\nSupported input types:\n\nitk.RGBPixel[itk.UC]\nitk.RGBAPixel[itk.UC]\nitk.Vector[itk.F,2]\nitk.Vector[itk.F,3]\nitk.Vector[itk.F,4]\nitk.CovariantVector[itk.F,2]\nitk.CovariantVector[itk.F,3]\nitk.CovariantVector[itk.F,4]\nitk.SS\nitk.UC\nitk.US\nitk.F\nitk.D\nitk.complex[itk.F]\nitk.Vector[itk.D,2]\nitk.Vector[itk.D,3]\nitk.Vector[itk.D,4]\nitk.UL\nitk.ULL\nitk.B\nitk.FixedArray[itk.F,2]\nitk.FixedArray[itk.D,2]\nitk.Offset[2]\nitk.SymmetricSecondRankTensor[itk.D,2]\nitk.RGBPixel[itk.UC]\nitk.RGBAPixel[itk.UC]\nitk.Vector[itk.F,2]\nitk.Vector[itk.F,3]\nitk.Vector[itk.F,4]\nitk.CovariantVector[itk.F,2]\nitk.CovariantVector[itk.F,3]\nitk.CovariantVector[itk.F,4]\nitk.SS\nitk.UC\nitk.US\nitk.F\nitk.D\nitk.complex[itk.F]\nitk.Vector[itk.D,2]\nitk.Vector[itk.D,3]\nitk.Vector[itk.D,4]\nitk.UL\nitk.ULL\nitk.B\nitk.FixedArray[itk.F,3]\nitk.FixedArray[itk.D,3]\nitk.Offset[3]\nitk.SymmetricSecondRankTensor[itk.D,3]\nitk.Vector[itk.F,1]\nitk.Vector[itk.D,2]\nitk.Vector[itk.D,3]\nitk.Vector[itk.D,4]\nitk.Vector[itk.F,1]\nitk.CovariantVector[itk.D,2]\nitk.CovariantVector[itk.D,3]\nitk.CovariantVector[itk.D,4]\nitk.CovariantVector[itk.D,2]\nitk.CovariantVector[itk.D,3]\nitk.CovariantVector[itk.D,4]\nitk.NormalBandNode[itk.Image[itk.F,2]]\nitk.NormalBandNode[itk.Image[itk.D,2]]\nitk.NormalBandNode[itk.Image[itk.F,3]]\nitk.NormalBandNode[itk.Image[itk.D,3]]\n"
     ]
    }
   ],
   "source": [
    "import itk\n",
    "\n",
    "image = itk.GetImageFromArray(voxels_u8)\n",
    "itk.imwrite(image, 'image.nrrd')"
   ]
  },
  {
   "cell_type": "code",
   "execution_count": 6,
   "metadata": {},
   "outputs": [],
   "source": [
    "import SimpleITK as sitk"
   ]
  },
  {
   "cell_type": "code",
   "execution_count": 12,
   "metadata": {},
   "outputs": [],
   "source": [
    "image = sitk.ReadImage(\"trace.nrrd\")\n",
    "ndimage = sitk.GetArrayFromImage(image)#ndarrayを取得"
   ]
  },
  {
   "cell_type": "code",
   "execution_count": 30,
   "metadata": {},
   "outputs": [],
   "source": [
    "sitk.WriteImage(trace2, \"trace_itk.nrrd\")"
   ]
  },
  {
   "cell_type": "code",
   "execution_count": 29,
   "metadata": {},
   "outputs": [],
   "source": [
    "trace2 = sitk.ReadImage(\"trace.nrrd\", imageIO=\"NrrdImageIO\")"
   ]
  },
  {
   "cell_type": "code",
   "execution_count": 31,
   "metadata": {},
   "outputs": [
    {
     "name": "stdout",
     "output_type": "stream",
     "text": [
      "<class 'numpy.ndarray'>\n"
     ]
    }
   ],
   "source": [
    "ndimage = sitk.GetArrayFromImage(trace2)#ndarrayを取得\n",
    "print(type(ndimage[0][0][0]))"
   ]
  },
  {
   "cell_type": "code",
   "execution_count": null,
   "metadata": {},
   "outputs": [],
   "source": []
  }
 ],
 "metadata": {
  "kernelspec": {
   "display_name": "Python 3",
   "language": "python",
   "name": "python3"
  },
  "language_info": {
   "codemirror_mode": {
    "name": "ipython",
    "version": 3
   },
   "file_extension": ".py",
   "mimetype": "text/x-python",
   "name": "python",
   "nbconvert_exporter": "python",
   "pygments_lexer": "ipython3",
   "version": "3.8.5"
  }
 },
 "nbformat": 4,
 "nbformat_minor": 2
}
